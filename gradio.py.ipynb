{
 "cells": [
  {
   "cell_type": "code",
   "execution_count": 6,
   "id": "63a87b67-61d8-4e9d-8acf-699050f1dd77",
   "metadata": {},
   "outputs": [
    {
     "name": "stdout",
     "output_type": "stream",
     "text": [
      "* Running on local URL:  http://127.0.0.1:7865\n",
      "* To create a public link, set `share=True` in `launch()`.\n"
     ]
    },
    {
     "data": {
      "text/html": [
       "<div><iframe src=\"http://127.0.0.1:7865/\" width=\"100%\" height=\"500\" allow=\"autoplay; camera; microphone; clipboard-read; clipboard-write;\" frameborder=\"0\" allowfullscreen></iframe></div>"
      ],
      "text/plain": [
       "<IPython.core.display.HTML object>"
      ]
     },
     "metadata": {},
     "output_type": "display_data"
    },
    {
     "name": "stderr",
     "output_type": "stream",
     "text": [
      "Exception in callback _ProactorBasePipeTransport._call_connection_lost(None)\n",
      "handle: <Handle _ProactorBasePipeTransport._call_connection_lost(None)>\n",
      "Traceback (most recent call last):\n",
      "  File \"C:\\Users\\ASUS\\anaconda3\\Lib\\asyncio\\events.py\", line 88, in _run\n",
      "    self._context.run(self._callback, *self._args)\n",
      "  File \"C:\\Users\\ASUS\\anaconda3\\Lib\\asyncio\\proactor_events.py\", line 165, in _call_connection_lost\n",
      "    self._sock.shutdown(socket.SHUT_RDWR)\n",
      "ConnectionResetError: [WinError 10054] An existing connection was forcibly closed by the remote host\n"
     ]
    }
   ],
   "source": [
    "import gradio as gr\n",
    "import openai\n",
    "import requests\n",
    "\n",
    "openai.api_key = \"YOUR_OPENAI_API_KEY\"\n",
    "VIRUSTOTAL_API_KEY = \"YOUR_VIRUSTOTAL_API_KEY\"\n",
    "\n",
    "BANNED_LIST = [\"com.spyware.app\", \"http://phishingsite.com\", \"keylogger.com\"]\n",
    "\n",
    "SUSPICIOUS_KEYWORDS = [\n",
    "    \"spy\", \"steal\", \"keylogger\", \"phish\", \"malware\",\n",
    "    \"hacker\", \"track\", \"logger\", \"rootkit\", \"sniffer\"\n",
    "]\n",
    "\n",
    "def is_https(entry):\n",
    "    return entry.lower().startswith(\"https://\")\n",
    "\n",
    "def is_banned(entry):\n",
    "    return entry.lower() in BANNED_LIST\n",
    "\n",
    "def keyword_analysis(entry):\n",
    "    return any(keyword in entry.lower() for keyword in SUSPICIOUS_KEYWORDS)\n",
    "\n",
    "def virus_total_scan(entry):\n",
    "    url = \"https://www.virustotal.com/api/v3/urls\"\n",
    "    headers = {\"x-apikey\": VIRUSTOTAL_API_KEY}\n",
    "    data = {\"url\": entry}\n",
    "\n",
    "    try:\n",
    "        post_resp = requests.post(url, headers=headers, data=data)\n",
    "        if post_resp.status_code != 200:\n",
    "            return \"Virus scan failed\"\n",
    "        scan_id = post_resp.json()[\"data\"][\"id\"]\n",
    "\n",
    "        report_url = f\"https://www.virustotal.com/api/v3/analyses/{scan_id}\"\n",
    "        result = requests.get(report_url, headers=headers).json()\n",
    "        stats = result[\"data\"][\"attributes\"][\"stats\"]\n",
    "        if stats[\"malicious\"] > 0:\n",
    "            return f\"⚠️ Malicious ({stats['malicious']} engines)\"\n",
    "        elif stats[\"suspicious\"] > 0:\n",
    "            return f\"⚠️ Suspicious ({stats['suspicious']} engines)\"\n",
    "        else:\n",
    "            return \"✅ Harmless\"\n",
    "    except Exception as e:\n",
    "        return f\"VirusTotal error: {e}\"\n",
    "\n",
    "def llm_analysis(entry):\n",
    "    prompt = f\"\"\"Classify the following app or link as 'Safe' or 'Suspicious'. Explain why:\n",
    "    \n",
    "    Input: {entry}\n",
    "    \n",
    "    Output:\"\"\"\n",
    "\n",
    "    try:\n",
    "        response = openai.Completion.create(\n",
    "            engine=\"text-davinci-003\",\n",
    "            prompt=prompt,\n",
    "            max_tokens=60,\n",
    "            temperature=0.3\n",
    "        )\n",
    "        return response.choices[0].text.strip()\n",
    "    except Exception as e:\n",
    "        return f\"LLM error: {e}\"\n",
    "\n",
    "def analyze_apps_links(input_text, access_key=\"\"):\n",
    "    VALID_KEYS = [\"abc123\", \"test456\"]\n",
    "    if access_key.strip() not in VALID_KEYS:\n",
    "        return \"❌ Access Denied. Please enter a valid access key after payment.\"\n",
    "\n",
    "    entries = [e.strip() for e in input_text.split(\",\") if e.strip()]\n",
    "    results = []\n",
    "\n",
    "    for entry in entries:\n",
    "        if is_banned(entry):\n",
    "            results.append(f\"{entry} → ❌ BANNED\\nExplanation: Blocked by policy.\")\n",
    "            continue\n",
    "\n",
    "        https_status = \"✅ HTTPS\" if is_https(entry) else \"❌ Not using HTTPS\"\n",
    "        keyword_flag = keyword_analysis(entry)\n",
    "        llm_result = llm_analysis(entry)\n",
    "        vt_result = virus_total_scan(entry)\n",
    "\n",
    "        combined_label = \"⚠️ Suspicious\" if \"suspicious\" in llm_result.lower() or keyword_flag else \"✅ Safe\"\n",
    "        results.append(\n",
    "            f\"{entry} → {combined_label}\\n\"\n",
    "            f\"- HTTPS Check: {https_status}\\n\"\n",
    "            f\"- VirusTotal: {vt_result}\\n\"\n",
    "            f\"- AI Verdict: {llm_result}\"\n",
    "        )\n",
    "\n",
    "    return \"\\n\\n\".join(results)\n",
    "\n",
    "interface = gr.Interface(\n",
    "    fn=analyze_apps_links,\n",
    "    inputs=[\n",
    "        gr.Textbox(label=\"Enter apps or URLs (comma-separated)\"),\n",
    "        gr.Textbox(label=\"Enter your access key\")\n",
    "    ],\n",
    "    outputs=gr.Textbox(label=\"Scan Results\"),\n",
    "    title=\"🛡️ AI + Virus Threat Scanner\",\n",
    "    description=\"Advanced scanner combining OpenAI, VirusTotal, HTTPS check, and banned app detection. Paid access required.\",\n",
    "    examples=[\n",
    "        [\"http://phishingsite.com, com.spy.app\", \"abc123\"],\n",
    "        [\"https://www.google.com\", \"test456\"]\n",
    "    ]\n",
    ")\n",
    "\n",
    "if __name__ == \"__main__\":\n",
    "    interface.launch()"
   ]
  },
  {
   "cell_type": "code",
   "execution_count": null,
   "id": "0bcbef2a-7a1c-4836-939d-675589134b0d",
   "metadata": {},
   "outputs": [],
   "source": []
  }
 ],
 "metadata": {
  "kernelspec": {
   "display_name": "Python 3 (ipykernel)",
   "language": "python",
   "name": "python3"
  },
  "language_info": {
   "codemirror_mode": {
    "name": "ipython",
    "version": 3
   },
   "file_extension": ".py",
   "mimetype": "text/x-python",
   "name": "python",
   "nbconvert_exporter": "python",
   "pygments_lexer": "ipython3",
   "version": "3.12.7"
  }
 },
 "nbformat": 4,
 "nbformat_minor": 5
}
